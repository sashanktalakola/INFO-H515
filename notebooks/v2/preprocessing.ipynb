{
 "cells": [
  {
   "cell_type": "markdown",
   "id": "6580b94f-9451-4ec4-bbb0-4aaf9ae230cf",
   "metadata": {},
   "source": [
    "---\n",
    "# H515 - Statistical Learning - Course Project\n",
    "---"
   ]
  },
  {
   "cell_type": "code",
   "execution_count": 1,
   "id": "d73b2ba2-e5b1-4166-a933-4f89e4a98b48",
   "metadata": {},
   "outputs": [],
   "source": [
    "import pandas as pd\n",
    "import numpy as np\n",
    "import matplotlib.pyplot as plt\n",
    "import seaborn as sns\n",
    "\n",
    "df_original = pd.read_csv(\"./data/Melbourne_housing_FULL.csv\")"
   ]
  },
  {
   "cell_type": "markdown",
   "id": "ce8ea819-cbaf-402e-8b25-183d20f3d9f2",
   "metadata": {},
   "source": [
    "## Original Data"
   ]
  },
  {
   "cell_type": "code",
   "execution_count": 2,
   "id": "4779774d-c3ca-41a6-b5d7-20fed370582d",
   "metadata": {},
   "outputs": [
    {
     "data": {
      "text/html": [
       "<div>\n",
       "<style scoped>\n",
       "    .dataframe tbody tr th:only-of-type {\n",
       "        vertical-align: middle;\n",
       "    }\n",
       "\n",
       "    .dataframe tbody tr th {\n",
       "        vertical-align: top;\n",
       "    }\n",
       "\n",
       "    .dataframe thead th {\n",
       "        text-align: right;\n",
       "    }\n",
       "</style>\n",
       "<table border=\"1\" class=\"dataframe\">\n",
       "  <thead>\n",
       "    <tr style=\"text-align: right;\">\n",
       "      <th></th>\n",
       "      <th>Suburb</th>\n",
       "      <th>Address</th>\n",
       "      <th>Rooms</th>\n",
       "      <th>Type</th>\n",
       "      <th>Price</th>\n",
       "      <th>Method</th>\n",
       "      <th>SellerG</th>\n",
       "      <th>Date</th>\n",
       "      <th>Distance</th>\n",
       "      <th>Postcode</th>\n",
       "      <th>...</th>\n",
       "      <th>Bathroom</th>\n",
       "      <th>Car</th>\n",
       "      <th>Landsize</th>\n",
       "      <th>BuildingArea</th>\n",
       "      <th>YearBuilt</th>\n",
       "      <th>CouncilArea</th>\n",
       "      <th>Lattitude</th>\n",
       "      <th>Longtitude</th>\n",
       "      <th>Regionname</th>\n",
       "      <th>Propertycount</th>\n",
       "    </tr>\n",
       "  </thead>\n",
       "  <tbody>\n",
       "    <tr>\n",
       "      <th>0</th>\n",
       "      <td>Abbotsford</td>\n",
       "      <td>68 Studley St</td>\n",
       "      <td>2</td>\n",
       "      <td>h</td>\n",
       "      <td>NaN</td>\n",
       "      <td>SS</td>\n",
       "      <td>Jellis</td>\n",
       "      <td>3/09/2016</td>\n",
       "      <td>2.5</td>\n",
       "      <td>3067.0</td>\n",
       "      <td>...</td>\n",
       "      <td>1.0</td>\n",
       "      <td>1.0</td>\n",
       "      <td>126.0</td>\n",
       "      <td>NaN</td>\n",
       "      <td>NaN</td>\n",
       "      <td>Yarra City Council</td>\n",
       "      <td>-37.8014</td>\n",
       "      <td>144.9958</td>\n",
       "      <td>Northern Metropolitan</td>\n",
       "      <td>4019.0</td>\n",
       "    </tr>\n",
       "    <tr>\n",
       "      <th>1</th>\n",
       "      <td>Abbotsford</td>\n",
       "      <td>85 Turner St</td>\n",
       "      <td>2</td>\n",
       "      <td>h</td>\n",
       "      <td>1480000.0</td>\n",
       "      <td>S</td>\n",
       "      <td>Biggin</td>\n",
       "      <td>3/12/2016</td>\n",
       "      <td>2.5</td>\n",
       "      <td>3067.0</td>\n",
       "      <td>...</td>\n",
       "      <td>1.0</td>\n",
       "      <td>1.0</td>\n",
       "      <td>202.0</td>\n",
       "      <td>NaN</td>\n",
       "      <td>NaN</td>\n",
       "      <td>Yarra City Council</td>\n",
       "      <td>-37.7996</td>\n",
       "      <td>144.9984</td>\n",
       "      <td>Northern Metropolitan</td>\n",
       "      <td>4019.0</td>\n",
       "    </tr>\n",
       "    <tr>\n",
       "      <th>2</th>\n",
       "      <td>Abbotsford</td>\n",
       "      <td>25 Bloomburg St</td>\n",
       "      <td>2</td>\n",
       "      <td>h</td>\n",
       "      <td>1035000.0</td>\n",
       "      <td>S</td>\n",
       "      <td>Biggin</td>\n",
       "      <td>4/02/2016</td>\n",
       "      <td>2.5</td>\n",
       "      <td>3067.0</td>\n",
       "      <td>...</td>\n",
       "      <td>1.0</td>\n",
       "      <td>0.0</td>\n",
       "      <td>156.0</td>\n",
       "      <td>79.0</td>\n",
       "      <td>1900.0</td>\n",
       "      <td>Yarra City Council</td>\n",
       "      <td>-37.8079</td>\n",
       "      <td>144.9934</td>\n",
       "      <td>Northern Metropolitan</td>\n",
       "      <td>4019.0</td>\n",
       "    </tr>\n",
       "    <tr>\n",
       "      <th>3</th>\n",
       "      <td>Abbotsford</td>\n",
       "      <td>18/659 Victoria St</td>\n",
       "      <td>3</td>\n",
       "      <td>u</td>\n",
       "      <td>NaN</td>\n",
       "      <td>VB</td>\n",
       "      <td>Rounds</td>\n",
       "      <td>4/02/2016</td>\n",
       "      <td>2.5</td>\n",
       "      <td>3067.0</td>\n",
       "      <td>...</td>\n",
       "      <td>2.0</td>\n",
       "      <td>1.0</td>\n",
       "      <td>0.0</td>\n",
       "      <td>NaN</td>\n",
       "      <td>NaN</td>\n",
       "      <td>Yarra City Council</td>\n",
       "      <td>-37.8114</td>\n",
       "      <td>145.0116</td>\n",
       "      <td>Northern Metropolitan</td>\n",
       "      <td>4019.0</td>\n",
       "    </tr>\n",
       "    <tr>\n",
       "      <th>4</th>\n",
       "      <td>Abbotsford</td>\n",
       "      <td>5 Charles St</td>\n",
       "      <td>3</td>\n",
       "      <td>h</td>\n",
       "      <td>1465000.0</td>\n",
       "      <td>SP</td>\n",
       "      <td>Biggin</td>\n",
       "      <td>4/03/2017</td>\n",
       "      <td>2.5</td>\n",
       "      <td>3067.0</td>\n",
       "      <td>...</td>\n",
       "      <td>2.0</td>\n",
       "      <td>0.0</td>\n",
       "      <td>134.0</td>\n",
       "      <td>150.0</td>\n",
       "      <td>1900.0</td>\n",
       "      <td>Yarra City Council</td>\n",
       "      <td>-37.8093</td>\n",
       "      <td>144.9944</td>\n",
       "      <td>Northern Metropolitan</td>\n",
       "      <td>4019.0</td>\n",
       "    </tr>\n",
       "  </tbody>\n",
       "</table>\n",
       "<p>5 rows × 21 columns</p>\n",
       "</div>"
      ],
      "text/plain": [
       "       Suburb             Address  Rooms Type      Price Method SellerG  \\\n",
       "0  Abbotsford       68 Studley St      2    h        NaN     SS  Jellis   \n",
       "1  Abbotsford        85 Turner St      2    h  1480000.0      S  Biggin   \n",
       "2  Abbotsford     25 Bloomburg St      2    h  1035000.0      S  Biggin   \n",
       "3  Abbotsford  18/659 Victoria St      3    u        NaN     VB  Rounds   \n",
       "4  Abbotsford        5 Charles St      3    h  1465000.0     SP  Biggin   \n",
       "\n",
       "        Date  Distance  Postcode  ...  Bathroom  Car  Landsize  BuildingArea  \\\n",
       "0  3/09/2016       2.5    3067.0  ...       1.0  1.0     126.0           NaN   \n",
       "1  3/12/2016       2.5    3067.0  ...       1.0  1.0     202.0           NaN   \n",
       "2  4/02/2016       2.5    3067.0  ...       1.0  0.0     156.0          79.0   \n",
       "3  4/02/2016       2.5    3067.0  ...       2.0  1.0       0.0           NaN   \n",
       "4  4/03/2017       2.5    3067.0  ...       2.0  0.0     134.0         150.0   \n",
       "\n",
       "   YearBuilt         CouncilArea Lattitude  Longtitude             Regionname  \\\n",
       "0        NaN  Yarra City Council  -37.8014    144.9958  Northern Metropolitan   \n",
       "1        NaN  Yarra City Council  -37.7996    144.9984  Northern Metropolitan   \n",
       "2     1900.0  Yarra City Council  -37.8079    144.9934  Northern Metropolitan   \n",
       "3        NaN  Yarra City Council  -37.8114    145.0116  Northern Metropolitan   \n",
       "4     1900.0  Yarra City Council  -37.8093    144.9944  Northern Metropolitan   \n",
       "\n",
       "  Propertycount  \n",
       "0        4019.0  \n",
       "1        4019.0  \n",
       "2        4019.0  \n",
       "3        4019.0  \n",
       "4        4019.0  \n",
       "\n",
       "[5 rows x 21 columns]"
      ]
     },
     "execution_count": 2,
     "metadata": {},
     "output_type": "execute_result"
    }
   ],
   "source": [
    "df_original.head()"
   ]
  },
  {
   "cell_type": "code",
   "execution_count": 3,
   "id": "2d4d8afc-69c7-444f-841d-856eed10eee1",
   "metadata": {},
   "outputs": [
    {
     "name": "stdout",
     "output_type": "stream",
     "text": [
      "<class 'pandas.core.frame.DataFrame'>\n",
      "RangeIndex: 34857 entries, 0 to 34856\n",
      "Data columns (total 21 columns):\n",
      " #   Column         Non-Null Count  Dtype  \n",
      "---  ------         --------------  -----  \n",
      " 0   Suburb         34857 non-null  object \n",
      " 1   Address        34857 non-null  object \n",
      " 2   Rooms          34857 non-null  int64  \n",
      " 3   Type           34857 non-null  object \n",
      " 4   Price          27247 non-null  float64\n",
      " 5   Method         34857 non-null  object \n",
      " 6   SellerG        34857 non-null  object \n",
      " 7   Date           34857 non-null  object \n",
      " 8   Distance       34856 non-null  float64\n",
      " 9   Postcode       34856 non-null  float64\n",
      " 10  Bedroom2       26640 non-null  float64\n",
      " 11  Bathroom       26631 non-null  float64\n",
      " 12  Car            26129 non-null  float64\n",
      " 13  Landsize       23047 non-null  float64\n",
      " 14  BuildingArea   13742 non-null  float64\n",
      " 15  YearBuilt      15551 non-null  float64\n",
      " 16  CouncilArea    34854 non-null  object \n",
      " 17  Lattitude      26881 non-null  float64\n",
      " 18  Longtitude     26881 non-null  float64\n",
      " 19  Regionname     34854 non-null  object \n",
      " 20  Propertycount  34854 non-null  float64\n",
      "dtypes: float64(12), int64(1), object(8)\n",
      "memory usage: 5.6+ MB\n"
     ]
    }
   ],
   "source": [
    "df_original.info()"
   ]
  },
  {
   "cell_type": "code",
   "execution_count": 4,
   "id": "1b21b46f-64ca-428a-89c9-f6a71e9d5e00",
   "metadata": {},
   "outputs": [
    {
     "data": {
      "text/html": [
       "<div>\n",
       "<style scoped>\n",
       "    .dataframe tbody tr th:only-of-type {\n",
       "        vertical-align: middle;\n",
       "    }\n",
       "\n",
       "    .dataframe tbody tr th {\n",
       "        vertical-align: top;\n",
       "    }\n",
       "\n",
       "    .dataframe thead th {\n",
       "        text-align: right;\n",
       "    }\n",
       "</style>\n",
       "<table border=\"1\" class=\"dataframe\">\n",
       "  <thead>\n",
       "    <tr style=\"text-align: right;\">\n",
       "      <th></th>\n",
       "      <th>Rooms</th>\n",
       "      <th>Price</th>\n",
       "      <th>Distance</th>\n",
       "      <th>Postcode</th>\n",
       "      <th>Bedroom2</th>\n",
       "      <th>Bathroom</th>\n",
       "      <th>Car</th>\n",
       "      <th>Landsize</th>\n",
       "      <th>BuildingArea</th>\n",
       "      <th>YearBuilt</th>\n",
       "      <th>Lattitude</th>\n",
       "      <th>Longtitude</th>\n",
       "      <th>Propertycount</th>\n",
       "    </tr>\n",
       "  </thead>\n",
       "  <tbody>\n",
       "    <tr>\n",
       "      <th>count</th>\n",
       "      <td>34857.000000</td>\n",
       "      <td>2.724700e+04</td>\n",
       "      <td>34856.000000</td>\n",
       "      <td>34856.000000</td>\n",
       "      <td>26640.000000</td>\n",
       "      <td>26631.000000</td>\n",
       "      <td>26129.000000</td>\n",
       "      <td>23047.000000</td>\n",
       "      <td>13742.00000</td>\n",
       "      <td>15551.000000</td>\n",
       "      <td>26881.000000</td>\n",
       "      <td>26881.000000</td>\n",
       "      <td>34854.000000</td>\n",
       "    </tr>\n",
       "    <tr>\n",
       "      <th>mean</th>\n",
       "      <td>3.031012</td>\n",
       "      <td>1.050173e+06</td>\n",
       "      <td>11.184929</td>\n",
       "      <td>3116.062859</td>\n",
       "      <td>3.084647</td>\n",
       "      <td>1.624798</td>\n",
       "      <td>1.728845</td>\n",
       "      <td>593.598993</td>\n",
       "      <td>160.25640</td>\n",
       "      <td>1965.289885</td>\n",
       "      <td>-37.810634</td>\n",
       "      <td>145.001851</td>\n",
       "      <td>7572.888306</td>\n",
       "    </tr>\n",
       "    <tr>\n",
       "      <th>std</th>\n",
       "      <td>0.969933</td>\n",
       "      <td>6.414671e+05</td>\n",
       "      <td>6.788892</td>\n",
       "      <td>109.023903</td>\n",
       "      <td>0.980690</td>\n",
       "      <td>0.724212</td>\n",
       "      <td>1.010771</td>\n",
       "      <td>3398.841946</td>\n",
       "      <td>401.26706</td>\n",
       "      <td>37.328178</td>\n",
       "      <td>0.090279</td>\n",
       "      <td>0.120169</td>\n",
       "      <td>4428.090313</td>\n",
       "    </tr>\n",
       "    <tr>\n",
       "      <th>min</th>\n",
       "      <td>1.000000</td>\n",
       "      <td>8.500000e+04</td>\n",
       "      <td>0.000000</td>\n",
       "      <td>3000.000000</td>\n",
       "      <td>0.000000</td>\n",
       "      <td>0.000000</td>\n",
       "      <td>0.000000</td>\n",
       "      <td>0.000000</td>\n",
       "      <td>0.00000</td>\n",
       "      <td>1196.000000</td>\n",
       "      <td>-38.190430</td>\n",
       "      <td>144.423790</td>\n",
       "      <td>83.000000</td>\n",
       "    </tr>\n",
       "    <tr>\n",
       "      <th>25%</th>\n",
       "      <td>2.000000</td>\n",
       "      <td>6.350000e+05</td>\n",
       "      <td>6.400000</td>\n",
       "      <td>3051.000000</td>\n",
       "      <td>2.000000</td>\n",
       "      <td>1.000000</td>\n",
       "      <td>1.000000</td>\n",
       "      <td>224.000000</td>\n",
       "      <td>102.00000</td>\n",
       "      <td>1940.000000</td>\n",
       "      <td>-37.862950</td>\n",
       "      <td>144.933500</td>\n",
       "      <td>4385.000000</td>\n",
       "    </tr>\n",
       "    <tr>\n",
       "      <th>50%</th>\n",
       "      <td>3.000000</td>\n",
       "      <td>8.700000e+05</td>\n",
       "      <td>10.300000</td>\n",
       "      <td>3103.000000</td>\n",
       "      <td>3.000000</td>\n",
       "      <td>2.000000</td>\n",
       "      <td>2.000000</td>\n",
       "      <td>521.000000</td>\n",
       "      <td>136.00000</td>\n",
       "      <td>1970.000000</td>\n",
       "      <td>-37.807600</td>\n",
       "      <td>145.007800</td>\n",
       "      <td>6763.000000</td>\n",
       "    </tr>\n",
       "    <tr>\n",
       "      <th>75%</th>\n",
       "      <td>4.000000</td>\n",
       "      <td>1.295000e+06</td>\n",
       "      <td>14.000000</td>\n",
       "      <td>3156.000000</td>\n",
       "      <td>4.000000</td>\n",
       "      <td>2.000000</td>\n",
       "      <td>2.000000</td>\n",
       "      <td>670.000000</td>\n",
       "      <td>188.00000</td>\n",
       "      <td>2000.000000</td>\n",
       "      <td>-37.754100</td>\n",
       "      <td>145.071900</td>\n",
       "      <td>10412.000000</td>\n",
       "    </tr>\n",
       "    <tr>\n",
       "      <th>max</th>\n",
       "      <td>16.000000</td>\n",
       "      <td>1.120000e+07</td>\n",
       "      <td>48.100000</td>\n",
       "      <td>3978.000000</td>\n",
       "      <td>30.000000</td>\n",
       "      <td>12.000000</td>\n",
       "      <td>26.000000</td>\n",
       "      <td>433014.000000</td>\n",
       "      <td>44515.00000</td>\n",
       "      <td>2106.000000</td>\n",
       "      <td>-37.390200</td>\n",
       "      <td>145.526350</td>\n",
       "      <td>21650.000000</td>\n",
       "    </tr>\n",
       "  </tbody>\n",
       "</table>\n",
       "</div>"
      ],
      "text/plain": [
       "              Rooms         Price      Distance      Postcode      Bedroom2  \\\n",
       "count  34857.000000  2.724700e+04  34856.000000  34856.000000  26640.000000   \n",
       "mean       3.031012  1.050173e+06     11.184929   3116.062859      3.084647   \n",
       "std        0.969933  6.414671e+05      6.788892    109.023903      0.980690   \n",
       "min        1.000000  8.500000e+04      0.000000   3000.000000      0.000000   \n",
       "25%        2.000000  6.350000e+05      6.400000   3051.000000      2.000000   \n",
       "50%        3.000000  8.700000e+05     10.300000   3103.000000      3.000000   \n",
       "75%        4.000000  1.295000e+06     14.000000   3156.000000      4.000000   \n",
       "max       16.000000  1.120000e+07     48.100000   3978.000000     30.000000   \n",
       "\n",
       "           Bathroom           Car       Landsize  BuildingArea     YearBuilt  \\\n",
       "count  26631.000000  26129.000000   23047.000000   13742.00000  15551.000000   \n",
       "mean       1.624798      1.728845     593.598993     160.25640   1965.289885   \n",
       "std        0.724212      1.010771    3398.841946     401.26706     37.328178   \n",
       "min        0.000000      0.000000       0.000000       0.00000   1196.000000   \n",
       "25%        1.000000      1.000000     224.000000     102.00000   1940.000000   \n",
       "50%        2.000000      2.000000     521.000000     136.00000   1970.000000   \n",
       "75%        2.000000      2.000000     670.000000     188.00000   2000.000000   \n",
       "max       12.000000     26.000000  433014.000000   44515.00000   2106.000000   \n",
       "\n",
       "          Lattitude    Longtitude  Propertycount  \n",
       "count  26881.000000  26881.000000   34854.000000  \n",
       "mean     -37.810634    145.001851    7572.888306  \n",
       "std        0.090279      0.120169    4428.090313  \n",
       "min      -38.190430    144.423790      83.000000  \n",
       "25%      -37.862950    144.933500    4385.000000  \n",
       "50%      -37.807600    145.007800    6763.000000  \n",
       "75%      -37.754100    145.071900   10412.000000  \n",
       "max      -37.390200    145.526350   21650.000000  "
      ]
     },
     "execution_count": 4,
     "metadata": {},
     "output_type": "execute_result"
    }
   ],
   "source": [
    "df_original.describe()"
   ]
  },
  {
   "cell_type": "markdown",
   "id": "22c1b45b-e8e4-4588-b4e4-2ea8ca21dce9",
   "metadata": {},
   "source": [
    "## Preprocessing"
   ]
  },
  {
   "cell_type": "markdown",
   "id": "ac0666f0-768a-4ea5-a604-b5fbde2990fa",
   "metadata": {},
   "source": [
    "### NA Values"
   ]
  },
  {
   "cell_type": "code",
   "execution_count": 5,
   "id": "e344c6d7-7275-4bcc-a66e-9373d9fa79d5",
   "metadata": {},
   "outputs": [
    {
     "data": {
      "text/plain": [
       "(34857, 21)"
      ]
     },
     "execution_count": 5,
     "metadata": {},
     "output_type": "execute_result"
    }
   ],
   "source": [
    "df_original.shape"
   ]
  },
  {
   "cell_type": "code",
   "execution_count": 6,
   "id": "e8852817-736c-4ce5-b911-3c137e5d53b0",
   "metadata": {},
   "outputs": [
    {
     "name": "stdout",
     "output_type": "stream",
     "text": [
      "<class 'pandas.core.frame.DataFrame'>\n",
      "RangeIndex: 34857 entries, 0 to 34856\n",
      "Data columns (total 21 columns):\n",
      " #   Column         Non-Null Count  Dtype  \n",
      "---  ------         --------------  -----  \n",
      " 0   Suburb         34857 non-null  object \n",
      " 1   Address        34857 non-null  object \n",
      " 2   Rooms          34857 non-null  int64  \n",
      " 3   Type           34857 non-null  object \n",
      " 4   Price          27247 non-null  float64\n",
      " 5   Method         34857 non-null  object \n",
      " 6   SellerG        34857 non-null  object \n",
      " 7   Date           34857 non-null  object \n",
      " 8   Distance       34856 non-null  float64\n",
      " 9   Postcode       34856 non-null  float64\n",
      " 10  Bedroom2       26640 non-null  float64\n",
      " 11  Bathroom       26631 non-null  float64\n",
      " 12  Car            26129 non-null  float64\n",
      " 13  Landsize       23047 non-null  float64\n",
      " 14  BuildingArea   13742 non-null  float64\n",
      " 15  YearBuilt      15551 non-null  float64\n",
      " 16  CouncilArea    34854 non-null  object \n",
      " 17  Lattitude      26881 non-null  float64\n",
      " 18  Longtitude     26881 non-null  float64\n",
      " 19  Regionname     34854 non-null  object \n",
      " 20  Propertycount  34854 non-null  float64\n",
      "dtypes: float64(12), int64(1), object(8)\n",
      "memory usage: 5.6+ MB\n"
     ]
    }
   ],
   "source": [
    "df_original.info()"
   ]
  },
  {
   "cell_type": "code",
   "execution_count": 7,
   "id": "d1bb060b-0e91-453c-86bb-ff6d76a7e8ce",
   "metadata": {},
   "outputs": [
    {
     "data": {
      "text/html": [
       "<div>\n",
       "<style scoped>\n",
       "    .dataframe tbody tr th:only-of-type {\n",
       "        vertical-align: middle;\n",
       "    }\n",
       "\n",
       "    .dataframe tbody tr th {\n",
       "        vertical-align: top;\n",
       "    }\n",
       "\n",
       "    .dataframe thead th {\n",
       "        text-align: right;\n",
       "    }\n",
       "</style>\n",
       "<table border=\"1\" class=\"dataframe\">\n",
       "  <thead>\n",
       "    <tr style=\"text-align: right;\">\n",
       "      <th></th>\n",
       "      <th>Suburb</th>\n",
       "      <th>Address</th>\n",
       "      <th>Rooms</th>\n",
       "      <th>Type</th>\n",
       "      <th>Price</th>\n",
       "      <th>Method</th>\n",
       "      <th>SellerG</th>\n",
       "      <th>Date</th>\n",
       "      <th>Distance</th>\n",
       "      <th>Postcode</th>\n",
       "      <th>Bedroom2</th>\n",
       "      <th>Bathroom</th>\n",
       "      <th>Car</th>\n",
       "      <th>Landsize</th>\n",
       "      <th>CouncilArea</th>\n",
       "      <th>Lattitude</th>\n",
       "      <th>Longtitude</th>\n",
       "      <th>Regionname</th>\n",
       "      <th>Propertycount</th>\n",
       "    </tr>\n",
       "  </thead>\n",
       "  <tbody>\n",
       "    <tr>\n",
       "      <th>1</th>\n",
       "      <td>Abbotsford</td>\n",
       "      <td>85 Turner St</td>\n",
       "      <td>2</td>\n",
       "      <td>h</td>\n",
       "      <td>1480000.0</td>\n",
       "      <td>S</td>\n",
       "      <td>Biggin</td>\n",
       "      <td>3/12/2016</td>\n",
       "      <td>2.5</td>\n",
       "      <td>3067.0</td>\n",
       "      <td>2.0</td>\n",
       "      <td>1.0</td>\n",
       "      <td>1.0</td>\n",
       "      <td>202.0</td>\n",
       "      <td>Yarra City Council</td>\n",
       "      <td>-37.7996</td>\n",
       "      <td>144.9984</td>\n",
       "      <td>Northern Metropolitan</td>\n",
       "      <td>4019.0</td>\n",
       "    </tr>\n",
       "    <tr>\n",
       "      <th>2</th>\n",
       "      <td>Abbotsford</td>\n",
       "      <td>25 Bloomburg St</td>\n",
       "      <td>2</td>\n",
       "      <td>h</td>\n",
       "      <td>1035000.0</td>\n",
       "      <td>S</td>\n",
       "      <td>Biggin</td>\n",
       "      <td>4/02/2016</td>\n",
       "      <td>2.5</td>\n",
       "      <td>3067.0</td>\n",
       "      <td>2.0</td>\n",
       "      <td>1.0</td>\n",
       "      <td>0.0</td>\n",
       "      <td>156.0</td>\n",
       "      <td>Yarra City Council</td>\n",
       "      <td>-37.8079</td>\n",
       "      <td>144.9934</td>\n",
       "      <td>Northern Metropolitan</td>\n",
       "      <td>4019.0</td>\n",
       "    </tr>\n",
       "    <tr>\n",
       "      <th>4</th>\n",
       "      <td>Abbotsford</td>\n",
       "      <td>5 Charles St</td>\n",
       "      <td>3</td>\n",
       "      <td>h</td>\n",
       "      <td>1465000.0</td>\n",
       "      <td>SP</td>\n",
       "      <td>Biggin</td>\n",
       "      <td>4/03/2017</td>\n",
       "      <td>2.5</td>\n",
       "      <td>3067.0</td>\n",
       "      <td>3.0</td>\n",
       "      <td>2.0</td>\n",
       "      <td>0.0</td>\n",
       "      <td>134.0</td>\n",
       "      <td>Yarra City Council</td>\n",
       "      <td>-37.8093</td>\n",
       "      <td>144.9944</td>\n",
       "      <td>Northern Metropolitan</td>\n",
       "      <td>4019.0</td>\n",
       "    </tr>\n",
       "    <tr>\n",
       "      <th>5</th>\n",
       "      <td>Abbotsford</td>\n",
       "      <td>40 Federation La</td>\n",
       "      <td>3</td>\n",
       "      <td>h</td>\n",
       "      <td>850000.0</td>\n",
       "      <td>PI</td>\n",
       "      <td>Biggin</td>\n",
       "      <td>4/03/2017</td>\n",
       "      <td>2.5</td>\n",
       "      <td>3067.0</td>\n",
       "      <td>3.0</td>\n",
       "      <td>2.0</td>\n",
       "      <td>1.0</td>\n",
       "      <td>94.0</td>\n",
       "      <td>Yarra City Council</td>\n",
       "      <td>-37.7969</td>\n",
       "      <td>144.9969</td>\n",
       "      <td>Northern Metropolitan</td>\n",
       "      <td>4019.0</td>\n",
       "    </tr>\n",
       "    <tr>\n",
       "      <th>6</th>\n",
       "      <td>Abbotsford</td>\n",
       "      <td>55a Park St</td>\n",
       "      <td>4</td>\n",
       "      <td>h</td>\n",
       "      <td>1600000.0</td>\n",
       "      <td>VB</td>\n",
       "      <td>Nelson</td>\n",
       "      <td>4/06/2016</td>\n",
       "      <td>2.5</td>\n",
       "      <td>3067.0</td>\n",
       "      <td>3.0</td>\n",
       "      <td>1.0</td>\n",
       "      <td>2.0</td>\n",
       "      <td>120.0</td>\n",
       "      <td>Yarra City Council</td>\n",
       "      <td>-37.8072</td>\n",
       "      <td>144.9941</td>\n",
       "      <td>Northern Metropolitan</td>\n",
       "      <td>4019.0</td>\n",
       "    </tr>\n",
       "  </tbody>\n",
       "</table>\n",
       "</div>"
      ],
      "text/plain": [
       "       Suburb           Address  Rooms Type      Price Method SellerG  \\\n",
       "1  Abbotsford      85 Turner St      2    h  1480000.0      S  Biggin   \n",
       "2  Abbotsford   25 Bloomburg St      2    h  1035000.0      S  Biggin   \n",
       "4  Abbotsford      5 Charles St      3    h  1465000.0     SP  Biggin   \n",
       "5  Abbotsford  40 Federation La      3    h   850000.0     PI  Biggin   \n",
       "6  Abbotsford       55a Park St      4    h  1600000.0     VB  Nelson   \n",
       "\n",
       "        Date  Distance  Postcode  Bedroom2  Bathroom  Car  Landsize  \\\n",
       "1  3/12/2016       2.5    3067.0       2.0       1.0  1.0     202.0   \n",
       "2  4/02/2016       2.5    3067.0       2.0       1.0  0.0     156.0   \n",
       "4  4/03/2017       2.5    3067.0       3.0       2.0  0.0     134.0   \n",
       "5  4/03/2017       2.5    3067.0       3.0       2.0  1.0      94.0   \n",
       "6  4/06/2016       2.5    3067.0       3.0       1.0  2.0     120.0   \n",
       "\n",
       "          CouncilArea  Lattitude  Longtitude             Regionname  \\\n",
       "1  Yarra City Council   -37.7996    144.9984  Northern Metropolitan   \n",
       "2  Yarra City Council   -37.8079    144.9934  Northern Metropolitan   \n",
       "4  Yarra City Council   -37.8093    144.9944  Northern Metropolitan   \n",
       "5  Yarra City Council   -37.7969    144.9969  Northern Metropolitan   \n",
       "6  Yarra City Council   -37.8072    144.9941  Northern Metropolitan   \n",
       "\n",
       "   Propertycount  \n",
       "1         4019.0  \n",
       "2         4019.0  \n",
       "4         4019.0  \n",
       "5         4019.0  \n",
       "6         4019.0  "
      ]
     },
     "execution_count": 7,
     "metadata": {},
     "output_type": "execute_result"
    }
   ],
   "source": [
    "df_original.drop(columns=[\"BuildingArea\", \"YearBuilt\"], axis=1, inplace=True)\n",
    "df = df_original.dropna()\n",
    "\n",
    "df.head()"
   ]
  },
  {
   "cell_type": "code",
   "execution_count": 8,
   "id": "191a61e2-b400-4b40-a91d-d4e481f94d7b",
   "metadata": {},
   "outputs": [
    {
     "data": {
      "text/plain": [
       "(17679, 19)"
      ]
     },
     "execution_count": 8,
     "metadata": {},
     "output_type": "execute_result"
    }
   ],
   "source": [
    "df.shape"
   ]
  },
  {
   "cell_type": "markdown",
   "id": "13aa626c-ae26-494e-8bf2-e5b832cde6c9",
   "metadata": {},
   "source": [
    "### Column Types"
   ]
  },
  {
   "cell_type": "code",
   "execution_count": 9,
   "id": "ffb939cb-5397-45e8-bf5d-1f82d39b8b34",
   "metadata": {},
   "outputs": [
    {
     "name": "stderr",
     "output_type": "stream",
     "text": [
      "/tmp/ipykernel_29627/1316568818.py:4: SettingWithCopyWarning: \n",
      "A value is trying to be set on a copy of a slice from a DataFrame.\n",
      "Try using .loc[row_indexer,col_indexer] = value instead\n",
      "\n",
      "See the caveats in the documentation: https://pandas.pydata.org/pandas-docs/stable/user_guide/indexing.html#returning-a-view-versus-a-copy\n",
      "  df[column] = df[column].astype(int)\n",
      "/tmp/ipykernel_29627/1316568818.py:4: SettingWithCopyWarning: \n",
      "A value is trying to be set on a copy of a slice from a DataFrame.\n",
      "Try using .loc[row_indexer,col_indexer] = value instead\n",
      "\n",
      "See the caveats in the documentation: https://pandas.pydata.org/pandas-docs/stable/user_guide/indexing.html#returning-a-view-versus-a-copy\n",
      "  df[column] = df[column].astype(int)\n",
      "/tmp/ipykernel_29627/1316568818.py:4: SettingWithCopyWarning: \n",
      "A value is trying to be set on a copy of a slice from a DataFrame.\n",
      "Try using .loc[row_indexer,col_indexer] = value instead\n",
      "\n",
      "See the caveats in the documentation: https://pandas.pydata.org/pandas-docs/stable/user_guide/indexing.html#returning-a-view-versus-a-copy\n",
      "  df[column] = df[column].astype(int)\n"
     ]
    }
   ],
   "source": [
    "columns = [\"Bedroom2\", \"Bathroom\", \"Car\"]\n",
    "\n",
    "for column in columns:\n",
    "    df[column] = df[column].astype(int)"
   ]
  },
  {
   "cell_type": "markdown",
   "id": "537b2724-ac18-495f-8a07-b85127c00085",
   "metadata": {},
   "source": [
    "### Duplicates"
   ]
  },
  {
   "cell_type": "code",
   "execution_count": 10,
   "id": "8043ff11-96c3-429d-8ded-6354777be363",
   "metadata": {},
   "outputs": [
    {
     "data": {
      "text/html": [
       "<div>\n",
       "<style scoped>\n",
       "    .dataframe tbody tr th:only-of-type {\n",
       "        vertical-align: middle;\n",
       "    }\n",
       "\n",
       "    .dataframe tbody tr th {\n",
       "        vertical-align: top;\n",
       "    }\n",
       "\n",
       "    .dataframe thead th {\n",
       "        text-align: right;\n",
       "    }\n",
       "</style>\n",
       "<table border=\"1\" class=\"dataframe\">\n",
       "  <thead>\n",
       "    <tr style=\"text-align: right;\">\n",
       "      <th></th>\n",
       "      <th>Suburb</th>\n",
       "      <th>Address</th>\n",
       "      <th>Rooms</th>\n",
       "      <th>Type</th>\n",
       "      <th>Price</th>\n",
       "      <th>Method</th>\n",
       "      <th>SellerG</th>\n",
       "      <th>Date</th>\n",
       "      <th>Distance</th>\n",
       "      <th>Postcode</th>\n",
       "      <th>Bedroom2</th>\n",
       "      <th>Bathroom</th>\n",
       "      <th>Car</th>\n",
       "      <th>Landsize</th>\n",
       "      <th>CouncilArea</th>\n",
       "      <th>Lattitude</th>\n",
       "      <th>Longtitude</th>\n",
       "      <th>Regionname</th>\n",
       "      <th>Propertycount</th>\n",
       "    </tr>\n",
       "  </thead>\n",
       "  <tbody>\n",
       "    <tr>\n",
       "      <th>3533</th>\n",
       "      <td>Collingwood</td>\n",
       "      <td>2/79 Oxford St</td>\n",
       "      <td>2</td>\n",
       "      <td>u</td>\n",
       "      <td>855000.0</td>\n",
       "      <td>S</td>\n",
       "      <td>Nelson</td>\n",
       "      <td>3/09/2016</td>\n",
       "      <td>1.6</td>\n",
       "      <td>3066.0</td>\n",
       "      <td>2</td>\n",
       "      <td>1</td>\n",
       "      <td>1</td>\n",
       "      <td>2886.0</td>\n",
       "      <td>Yarra City Council</td>\n",
       "      <td>-37.8042</td>\n",
       "      <td>144.9845</td>\n",
       "      <td>Northern Metropolitan</td>\n",
       "      <td>4553.0</td>\n",
       "    </tr>\n",
       "    <tr>\n",
       "      <th>3540</th>\n",
       "      <td>Collingwood</td>\n",
       "      <td>6/78 Oxford St</td>\n",
       "      <td>2</td>\n",
       "      <td>u</td>\n",
       "      <td>910000.0</td>\n",
       "      <td>S</td>\n",
       "      <td>Jellis</td>\n",
       "      <td>4/03/2017</td>\n",
       "      <td>1.6</td>\n",
       "      <td>3066.0</td>\n",
       "      <td>2</td>\n",
       "      <td>1</td>\n",
       "      <td>1</td>\n",
       "      <td>0.0</td>\n",
       "      <td>Yarra City Council</td>\n",
       "      <td>-37.8035</td>\n",
       "      <td>144.9850</td>\n",
       "      <td>Northern Metropolitan</td>\n",
       "      <td>4553.0</td>\n",
       "    </tr>\n",
       "    <tr>\n",
       "      <th>5358</th>\n",
       "      <td>Hawthorn</td>\n",
       "      <td>318/6 Lisson Gr</td>\n",
       "      <td>1</td>\n",
       "      <td>u</td>\n",
       "      <td>485000.0</td>\n",
       "      <td>S</td>\n",
       "      <td>Marshall</td>\n",
       "      <td>28/08/2016</td>\n",
       "      <td>4.6</td>\n",
       "      <td>3122.0</td>\n",
       "      <td>2</td>\n",
       "      <td>1</td>\n",
       "      <td>1</td>\n",
       "      <td>0.0</td>\n",
       "      <td>Boroondara City Council</td>\n",
       "      <td>-37.8264</td>\n",
       "      <td>145.0270</td>\n",
       "      <td>Southern Metropolitan</td>\n",
       "      <td>11308.0</td>\n",
       "    </tr>\n",
       "    <tr>\n",
       "      <th>7829</th>\n",
       "      <td>Port Melbourne</td>\n",
       "      <td>133/95 Rouse St</td>\n",
       "      <td>2</td>\n",
       "      <td>u</td>\n",
       "      <td>1070000.0</td>\n",
       "      <td>S</td>\n",
       "      <td>RT</td>\n",
       "      <td>10/09/2016</td>\n",
       "      <td>3.8</td>\n",
       "      <td>3207.0</td>\n",
       "      <td>2</td>\n",
       "      <td>2</td>\n",
       "      <td>1</td>\n",
       "      <td>0.0</td>\n",
       "      <td>Melbourne City Council</td>\n",
       "      <td>-37.8435</td>\n",
       "      <td>144.9415</td>\n",
       "      <td>Southern Metropolitan</td>\n",
       "      <td>8648.0</td>\n",
       "    </tr>\n",
       "    <tr>\n",
       "      <th>8045</th>\n",
       "      <td>Prahran</td>\n",
       "      <td>49 Clifton St</td>\n",
       "      <td>2</td>\n",
       "      <td>h</td>\n",
       "      <td>765000.0</td>\n",
       "      <td>S</td>\n",
       "      <td>Beller</td>\n",
       "      <td>19/11/2016</td>\n",
       "      <td>4.5</td>\n",
       "      <td>3181.0</td>\n",
       "      <td>2</td>\n",
       "      <td>1</td>\n",
       "      <td>0</td>\n",
       "      <td>98.0</td>\n",
       "      <td>Stonnington City Council</td>\n",
       "      <td>-37.8501</td>\n",
       "      <td>144.9953</td>\n",
       "      <td>Southern Metropolitan</td>\n",
       "      <td>7717.0</td>\n",
       "    </tr>\n",
       "  </tbody>\n",
       "</table>\n",
       "</div>"
      ],
      "text/plain": [
       "              Suburb          Address  Rooms Type      Price Method   SellerG  \\\n",
       "3533     Collingwood   2/79 Oxford St      2    u   855000.0      S    Nelson   \n",
       "3540     Collingwood   6/78 Oxford St      2    u   910000.0      S    Jellis   \n",
       "5358        Hawthorn  318/6 Lisson Gr      1    u   485000.0      S  Marshall   \n",
       "7829  Port Melbourne  133/95 Rouse St      2    u  1070000.0      S        RT   \n",
       "8045         Prahran    49 Clifton St      2    h   765000.0      S    Beller   \n",
       "\n",
       "            Date  Distance  Postcode  Bedroom2  Bathroom  Car  Landsize  \\\n",
       "3533   3/09/2016       1.6    3066.0         2         1    1    2886.0   \n",
       "3540   4/03/2017       1.6    3066.0         2         1    1       0.0   \n",
       "5358  28/08/2016       4.6    3122.0         2         1    1       0.0   \n",
       "7829  10/09/2016       3.8    3207.0         2         2    1       0.0   \n",
       "8045  19/11/2016       4.5    3181.0         2         1    0      98.0   \n",
       "\n",
       "                   CouncilArea  Lattitude  Longtitude             Regionname  \\\n",
       "3533        Yarra City Council   -37.8042    144.9845  Northern Metropolitan   \n",
       "3540        Yarra City Council   -37.8035    144.9850  Northern Metropolitan   \n",
       "5358   Boroondara City Council   -37.8264    145.0270  Southern Metropolitan   \n",
       "7829    Melbourne City Council   -37.8435    144.9415  Southern Metropolitan   \n",
       "8045  Stonnington City Council   -37.8501    144.9953  Southern Metropolitan   \n",
       "\n",
       "      Propertycount  \n",
       "3533         4553.0  \n",
       "3540         4553.0  \n",
       "5358        11308.0  \n",
       "7829         8648.0  \n",
       "8045         7717.0  "
      ]
     },
     "execution_count": 10,
     "metadata": {},
     "output_type": "execute_result"
    }
   ],
   "source": [
    "duplicated = df.duplicated(subset=(\"Lattitude\", \"Longtitude\", \"Date\"), keep=\"first\")\n",
    "\n",
    "df[duplicated].head()"
   ]
  },
  {
   "cell_type": "code",
   "execution_count": 11,
   "id": "d0a74d0b-4589-400a-a19b-7d346f0e4c98",
   "metadata": {},
   "outputs": [],
   "source": [
    "df = df[~duplicated]"
   ]
  },
  {
   "cell_type": "markdown",
   "id": "3491a9a5-2b30-4779-944c-6002e440625e",
   "metadata": {},
   "source": [
    "### Removing Outliers"
   ]
  },
  {
   "cell_type": "markdown",
   "id": "8a382e86-8025-4671-8ad8-5278c4a7c3ea",
   "metadata": {},
   "source": [
    "#### YearBuilt"
   ]
  },
  {
   "cell_type": "code",
   "execution_count": 12,
   "id": "3bd0f67c-9412-497a-b34e-c23d3cbe33ff",
   "metadata": {},
   "outputs": [],
   "source": [
    "def plot_histogram(dataframe, column, figsize=None):\n",
    "\n",
    "    if figsize is not None:\n",
    "        plt.figure(figsize=figsize)\n",
    "    sns.histplot(dataframe[column])\n",
    "    plt.title(f\"Histogram of {column} Column\")\n",
    "    plt.xlabel(column)\n",
    "    plt.ylabel(\"Frequency\")\n",
    "    plt.show()"
   ]
  },
  {
   "cell_type": "code",
   "execution_count": 13,
   "id": "ce3045a2-89ef-4678-8c8c-928d2f86fe03",
   "metadata": {},
   "outputs": [],
   "source": [
    "# plot_histogram(df, \"YearBuilt\", (10, 8))"
   ]
  },
  {
   "cell_type": "code",
   "execution_count": 14,
   "id": "d5b7db54-2af3-443c-ac62-a8d8cb386a48",
   "metadata": {},
   "outputs": [],
   "source": [
    "# built_before_1800 = df[\"YearBuilt\"] < 1800\n",
    "# df[built_before_1800]"
   ]
  },
  {
   "cell_type": "code",
   "execution_count": 15,
   "id": "3256e4b9-bf14-4bcc-bff8-6b84c3ca2b1a",
   "metadata": {},
   "outputs": [],
   "source": [
    "# df = df[~built_before_1800]"
   ]
  },
  {
   "cell_type": "markdown",
   "id": "5be42017-0bbf-4fb4-890b-8ca4176f8edd",
   "metadata": {},
   "source": [
    "#### BuildingArea"
   ]
  },
  {
   "cell_type": "code",
   "execution_count": 16,
   "id": "c5f0c29a-082b-4d94-911e-a1d044cdccaa",
   "metadata": {},
   "outputs": [],
   "source": [
    "# build_eq_zero = (df[\"BuildingArea\"] == 0)\n",
    "# print(f\"Properties with Zero Building Area - {sum(build_eq_zero)}\")\n",
    "\n",
    "# df = df[~build_eq_zero]"
   ]
  },
  {
   "cell_type": "markdown",
   "id": "5b7745ea-2887-4f3c-8e26-9c67875d19ae",
   "metadata": {},
   "source": [
    "#### Landsize"
   ]
  },
  {
   "cell_type": "code",
   "execution_count": 17,
   "id": "8d7b2fa6-67f3-43b0-9e4b-c0a0b7c1cc0a",
   "metadata": {},
   "outputs": [],
   "source": [
    "# land_eq_zero = (df[\"Landsize\"] == 0)\n",
    "# print(f\"Properties with Zero Land Size - {sum(land_eq_zero)}\")\n",
    "\n",
    "# df = df[~land_eq_zero]"
   ]
  },
  {
   "cell_type": "code",
   "execution_count": 18,
   "id": "657964cb-9836-41e7-be3c-8be8562eab61",
   "metadata": {},
   "outputs": [],
   "source": [
    "# plot_histogram(df, \"Landsize\", (10, 8))"
   ]
  },
  {
   "cell_type": "code",
   "execution_count": 19,
   "id": "96a62e81-236e-4c91-a6f3-6140add062b7",
   "metadata": {},
   "outputs": [],
   "source": [
    "# percentile_value = df[\"Landsize\"].quantile(.95)\n",
    "# print(percentile_value)\n",
    "\n",
    "# gt_95_prec_land = (df[\"Landsize\"] > percentile_value)\n",
    "# df[gt_95_prec_land].head()"
   ]
  },
  {
   "cell_type": "code",
   "execution_count": 20,
   "id": "d53cb205-9dcc-46c4-a2b9-d43a313a8a49",
   "metadata": {},
   "outputs": [],
   "source": [
    "# percentile_value = df[\"Landsize\"].quantile(.995)\n",
    "# print(percentile_value)\n",
    "\n",
    "# gt_995_prec_land = (df[\"Landsize\"] > percentile_value)\n",
    "# df[gt_995_prec_land].head()"
   ]
  },
  {
   "cell_type": "code",
   "execution_count": 21,
   "id": "08056430-8842-4fa0-a3c0-baed215fb44a",
   "metadata": {},
   "outputs": [],
   "source": [
    "# df[df[\"Landsize\"] > 30000]"
   ]
  },
  {
   "cell_type": "code",
   "execution_count": 22,
   "id": "27791e36-57ff-49d9-a839-fb06571639aa",
   "metadata": {},
   "outputs": [],
   "source": [
    "# land_size_up_threshold = 10000\n",
    "# gt_10000_land = (df[\"Landsize\"] > land_size_up_threshold)\n",
    "\n",
    "# df = df[~gt_10000_land]"
   ]
  },
  {
   "cell_type": "code",
   "execution_count": 23,
   "id": "f46fbb50-8522-498e-b128-f1fbb62d8a7a",
   "metadata": {},
   "outputs": [],
   "source": [
    "# (df[\"Landsize\"] < 55).sum()"
   ]
  },
  {
   "cell_type": "code",
   "execution_count": 24,
   "id": "8c7f8f14-6969-4e87-ba74-703e97f2b293",
   "metadata": {},
   "outputs": [],
   "source": [
    "# land_size_lo_threshold = 55\n",
    "# lt_55_land = (df[\"Landsize\"] < land_size_lo_threshold)\n",
    "\n",
    "# df = df[~lt_55_land]"
   ]
  },
  {
   "cell_type": "markdown",
   "id": "c00b6af2-e939-4087-a2fe-d9518fd8b460",
   "metadata": {},
   "source": [
    "### Column Selection"
   ]
  },
  {
   "cell_type": "code",
   "execution_count": 25,
   "id": "2fa6a713-d5b5-424f-82f1-dc22cc8760fe",
   "metadata": {},
   "outputs": [
    {
     "name": "stdout",
     "output_type": "stream",
     "text": [
      "Columns Unique Value Counts - \n",
      "\n",
      "Suburb - 333\n",
      "Address - 17354\n",
      "Rooms - 10\n",
      "Type - 3\n",
      "Price - 2446\n",
      "Method - 5\n",
      "SellerG - 308\n",
      "Date - 78\n",
      "Distance - 207\n",
      "Postcode - 204\n",
      "Bedroom2 - 13\n",
      "Bathroom - 10\n",
      "Car - 13\n",
      "Landsize - 1542\n",
      "CouncilArea - 33\n",
      "Lattitude - 9375\n",
      "Longtitude - 10083\n",
      "Regionname - 8\n",
      "Propertycount - 328\n"
     ]
    }
   ],
   "source": [
    "print(\"Columns Unique Value Counts - \\n\")\n",
    "for column in df.columns:\n",
    "    print(f\"{column} -\", df.loc[:, column].nunique())"
   ]
  },
  {
   "cell_type": "markdown",
   "id": "bdfced17-f69c-4d26-93f0-bf73d5f40d52",
   "metadata": {},
   "source": [
    "Columns **not** being used - `Suburb`, `Address`, `Method`, `SellerG`, `Postcode`, `CouncilArea` and `Regionname`"
   ]
  },
  {
   "cell_type": "markdown",
   "id": "56a78b10-8c0e-4066-ba08-00b28ce10316",
   "metadata": {},
   "source": [
    "### Feature Engineering"
   ]
  },
  {
   "cell_type": "markdown",
   "id": "03e0b1a8-64ad-4b09-a24b-224c1815bb38",
   "metadata": {},
   "source": [
    "#### BuildtoLandArea"
   ]
  },
  {
   "cell_type": "code",
   "execution_count": 26,
   "id": "53bc2712-cc6f-47ef-b6cb-30b7596ecc9e",
   "metadata": {},
   "outputs": [],
   "source": [
    "# df[\"BuildtoLandArea\"] = df[\"Landsize\"] / df[\"BuildingArea\"]"
   ]
  },
  {
   "cell_type": "markdown",
   "id": "1c848e41-d648-4b51-94f6-de0d4fed8b38",
   "metadata": {},
   "source": [
    "#### Property Count"
   ]
  },
  {
   "cell_type": "code",
   "execution_count": 27,
   "id": "26f64672-2aa3-4730-b795-ba34af2bbd3b",
   "metadata": {},
   "outputs": [],
   "source": [
    "percentiles = [0, 20, 40, 60, 80, 100]\n",
    "bin_edges = np.percentile(df['Propertycount'], percentiles)\n",
    "\n",
    "bin_labels = [\"Highly Sparse\", \"Below Avg.\", \"Average\", \"Above Avg.\", \"Highly Dense\"]\n",
    "df[\"Propertycount_Bins\"] = pd.cut(df[\"Propertycount\"], bins=bin_edges, labels=bin_labels, include_lowest=True)"
   ]
  },
  {
   "cell_type": "markdown",
   "id": "68ca26ef-c0aa-4aa0-a03d-475a0e4a447b",
   "metadata": {},
   "source": [
    "#### Bedroom"
   ]
  },
  {
   "cell_type": "code",
   "execution_count": 28,
   "id": "b6bdc012-4124-4220-9aef-3e87e04060e9",
   "metadata": {},
   "outputs": [],
   "source": [
    "bed_20 = (df[\"Bedroom2\"] == 20)\n",
    "\n",
    "df = df[~bed_20]"
   ]
  },
  {
   "cell_type": "markdown",
   "id": "cac4a9fa-6b8a-4f4a-aab8-fb99649f57cd",
   "metadata": {},
   "source": [
    "#### Bathroom"
   ]
  },
  {
   "cell_type": "code",
   "execution_count": 29,
   "id": "05f88c2d-cffd-41c9-8aaa-a532f8c41ab0",
   "metadata": {},
   "outputs": [],
   "source": [
    "bath_zero = (df[\"Bathroom\"] == 0)\n",
    "\n",
    "df = df[~bath_zero]"
   ]
  },
  {
   "cell_type": "markdown",
   "id": "8d52dd9b-8b60-430e-a4f3-fe0ea1655209",
   "metadata": {},
   "source": [
    "#### BedtoBath"
   ]
  },
  {
   "cell_type": "code",
   "execution_count": 31,
   "id": "0b419abb-a80b-4b0b-b7ec-a06dfe690f7b",
   "metadata": {},
   "outputs": [],
   "source": [
    "df[\"BedtoBath\"] = df[\"Bedroom2\"] / df[\"Bathroom\"]"
   ]
  },
  {
   "cell_type": "code",
   "execution_count": 32,
   "id": "2c0e3f91-8395-4fe4-91f4-b27e0c8b652e",
   "metadata": {},
   "outputs": [],
   "source": [
    "num_columns = [\"Distance\", \"Landsize\", \"Lattitude\", \"Longtitude\", \"BedtoBath\"]\n",
    "cat_columns = [\"Rooms\", \"Type\", \"Bedroom2\", \"Bathroom\", \"Car\", \"Propertycount_Bins\"]"
   ]
  },
  {
   "cell_type": "code",
   "execution_count": 33,
   "id": "7e7f08e6-3842-462c-a107-5ee9ceb132d8",
   "metadata": {},
   "outputs": [
    {
     "data": {
      "image/png": "[encoded data removed]",
      "text/plain": [
       "<Figure size 1000x800 with 1 Axes>"
      ]
     },
     "metadata": {},
     "output_type": "display_data"
    }
   ],
   "source": [
    "plot_histogram(df, \"Landsize\", (10, 8))"
   ]
  },
  {
   "cell_type": "code",
   "execution_count": 34,
   "id": "4eb5e30d-ed16-4a51-9ee8-8f606952432d",
   "metadata": {},
   "outputs": [
    {
     "data": {
      "image/png": "[encoded data removed]",
      "text/plain": [
       "<Figure size 1000x800 with 1 Axes>"
      ]
     },
     "metadata": {},
     "output_type": "display_data"
    }
   ],
   "source": [
    "tail_heavy_columns = [\"Landsize\", ]\n",
    "df[tail_heavy_columns] = df[tail_heavy_columns].apply(lambda x: np.log(x+1))\n",
    "\n",
    "plot_histogram(df, \"Landsize\", (10, 8))"
   ]
  },
  {
   "cell_type": "code",
   "execution_count": 35,
   "id": "101fd7e1-8a76-4a13-b40c-40c5958ad42a",
   "metadata": {},
   "outputs": [],
   "source": [
    "from sklearn.compose import ColumnTransformer\n",
    "from sklearn.preprocessing import StandardScaler, OneHotEncoder\n",
    "\n",
    "preprocessor = ColumnTransformer(\n",
    "    transformers=[\n",
    "        (\"numerical\", StandardScaler(), num_columns),\n",
    "        (\"categorical\", OneHotEncoder(handle_unknown='ignore'), cat_columns)\n",
    "    ]\n",
    ")"
   ]
  },
  {
   "cell_type": "code",
   "execution_count": 37,
   "id": "fe281478-c67f-4d38-965f-a804b2e7ad26",
   "metadata": {},
   "outputs": [
    {
     "name": "stdout",
     "output_type": "stream",
     "text": [
      "(17627, 57)\n"
     ]
    }
   ],
   "source": [
    "df_preprocessed = preprocessor.fit_transform(df)\n",
    "\n",
    "df_preprocessed = df_preprocessed.toarray()\n",
    "print(df_preprocessed.shape)\n",
    "\n",
    "np.save(\"processed-data/v2/X.npy\", df_preprocessed)"
   ]
  },
  {
   "cell_type": "code",
   "execution_count": 38,
   "id": "41f84039-75d0-4294-83b9-711c46225324",
   "metadata": {},
   "outputs": [],
   "source": [
    "np.save(\"processed-data/v2/y.npy\", df[\"Price\"])"
   ]
  },
  {
   "cell_type": "code",
   "execution_count": 39,
   "id": "77937c66-d56c-4314-9aca-ef4629b81b24",
   "metadata": {},
   "outputs": [],
   "source": [
    "# pd.DataFrame(df_preprocessed)\n",
    "# pd.DataFrame(df_preprocessed).to_csv(\"preprocessed_data.csv\", index=False)"
   ]
  },
  {
   "cell_type": "code",
   "execution_count": 41,
   "id": "f2e63e5e-fc5a-4847-91b6-bd83249adf20",
   "metadata": {},
   "outputs": [
    {
     "data": {
      "text/plain": [
       "['joblib-files/preprocessing/v2/preprocessor.pkl']"
      ]
     },
     "execution_count": 41,
     "metadata": {},
     "output_type": "execute_result"
    }
   ],
   "source": [
    "import joblib\n",
    "\n",
    "joblib.dump(preprocessor, \"joblib-files/preprocessing/v2/preprocessor.pkl\")"
   ]
  }
 ],
 "metadata": {
  "kernelspec": {
   "display_name": "Python 3 (ipykernel)",
   "language": "python",
   "name": "python3"
  },
  "language_info": {
   "codemirror_mode": {
    "name": "ipython",
    "version": 3
   },
   "file_extension": ".py",
   "mimetype": "text/x-python",
   "name": "python",
   "nbconvert_exporter": "python",
   "pygments_lexer": "ipython3",
   "version": "3.11.6"
  }
 },
 "nbformat": 4,
 "nbformat_minor": 5
}
