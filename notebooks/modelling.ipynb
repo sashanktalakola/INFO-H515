{
 "cells": [
  {
   "cell_type": "code",
   "execution_count": 3,
   "id": "5c09700c-6318-45bf-b658-e7753d0d7a1e",
   "metadata": {},
   "outputs": [],
   "source": [
    "import numpy as np\n",
    "from sklearn.model_selection import train_test_split\n",
    "\n",
    "version = \"v3\"\n",
    "\n",
    "X = np.load(f\"../processed-data/{version}/X.npy\")\n",
    "y = np.load(f\"../processed-data/{version}/y.npy\")\n",
    "\n",
    "X_train, X_test, y_train, y_test = train_test_split(X, y, test_size=.2, random_state=42)"
   ]
  },
  {
   "cell_type": "code",
   "execution_count": 4,
   "id": "f91e52c9-58b6-4b4b-a365-d120a82bab95",
   "metadata": {},
   "outputs": [],
   "source": [
    "from sklearn.model_selection import GridSearchCV\n",
    "from sklearn.linear_model import LinearRegression, Lasso, Ridge\n",
    "from sklearn.tree import DecisionTreeRegressor\n",
    "from sklearn.ensemble import RandomForestRegressor\n",
    "from sklearn.svm import SVR\n",
    "from sklearn.neighbors import KNeighborsRegressor\n",
    "from sklearn.ensemble import RandomForestRegressor\n",
    "\n",
    "from sklearn.metrics import mean_squared_error\n",
    "\n",
    "\n",
    "import warnings\n",
    "warnings.filterwarnings('ignore')"
   ]
  },
  {
   "cell_type": "code",
   "execution_count": 5,
   "id": "149a0dd1-1f36-43c8-a208-5bdffa2203eb",
   "metadata": {},
   "outputs": [],
   "source": [
    "import importlib\n",
    "\n",
    "CLASS_MODULES = {\n",
    "    \"LinearRegression\": \"sklearn.linear_model\",\n",
    "    \"SVR\": \"sklearn.svm\",\n",
    "    \"DecisionTreeRegressor\": \"sklearn.tree\",\n",
    "    \"Lasso\": \"sklearn.linear_model\",\n",
    "    \"Ridge\": \"sklearn.linear_model\",\n",
    "    \"KNeighborsRegressor\": \"sklearn.neighbors\",\n",
    "    \"RandomForestRegressor\": \"sklearn.ensemble\",\n",
    "}\n",
    "\n",
    "def get_model(model_name):\n",
    "    try:\n",
    "        module_name = CLASS_MODULES.get(model_name)\n",
    "        module = importlib.import_module(module_name)\n",
    "        clf_class = getattr(module, model_name)\n",
    "        clf_instance = clf_class()\n",
    "\n",
    "        return clf_instance\n",
    "    except ImportError as e:\n",
    "        print(f\"Error importing module: {e}\")\n",
    "    except AttributeError as e:\n",
    "        print(f\"Error accessing class {model_name}: {e}\")"
   ]
  },
  {
   "cell_type": "code",
   "execution_count": 6,
   "id": "2ca95fcd-e397-4d75-9810-34821fa4b4f5",
   "metadata": {},
   "outputs": [],
   "source": [
    "param_grid = {\n",
    "    \"LinearRegression\" : {\n",
    "        \"n_jobs\": [-1],\n",
    "    },\n",
    "    \"Lasso\" : {\n",
    "        \"alpha\" : [0.1, 0.5, 1.0, 5.0, 10.0],\n",
    "        \"max_iter\" : [2500],\n",
    "    },\n",
    "    \"Ridge\" : {\n",
    "        \"alpha\" : [0.1, 0.5, 1.0, 5.0, 10.0],\n",
    "    },\n",
    "    \"DecisionTreeRegressor\" : {\n",
    "        \"max_depth\" : [None, 10, 20, 30, 40, 50],\n",
    "        \"min_samples_split\" : [2, 5, 10, 15, 20],\n",
    "        \"min_samples_leaf\" : [1, 2, 4, 6, 8],\n",
    "    },\n",
    "    \"SVR\" : {\n",
    "        \"kernel\" : [\"linear\", \"rbf\", \"poly\"],\n",
    "        \"C\" : [0.1, 0.5, 1.0, 5.0, 10.0],\n",
    "        \"epsilon\" : [0.1, 0.2, 0.5],\n",
    "    },\n",
    "    \"KNeighborsRegressor\" : {\n",
    "        \"n_neighbors\" : [3, 5, 7, 10, 15],\n",
    "        \"weights\" : [\"uniform\", \"distance\"],\n",
    "        \"n_jobs\": [-1],\n",
    "    },\n",
    "}"
   ]
  },
  {
   "cell_type": "code",
   "execution_count": 7,
   "id": "a110e6ca-9a58-4619-9db6-0a88c6a80ea6",
   "metadata": {},
   "outputs": [
    {
     "name": "stdout",
     "output_type": "stream",
     "text": [
      "\n",
      "LinearRegression:\n",
      "Best Mean Squared Error: 272552161856.18152\n",
      "Best Parameters: {'copy_X': True, 'fit_intercept': True, 'n_jobs': -1, 'positive': False}\n",
      "\n",
      "\n",
      "\n",
      "Lasso:\n",
      "Best Mean Squared Error: 272604158961.09015\n",
      "Best Parameters: {'alpha': 0.1, 'copy_X': True, 'fit_intercept': True, 'max_iter': 2500, 'positive': False, 'precompute': False, 'random_state': None, 'selection': 'cyclic', 'tol': 0.0001, 'warm_start': False}\n",
      "\n",
      "\n",
      "\n",
      "Ridge:\n",
      "Best Mean Squared Error: 266750503196.5367\n",
      "Best Parameters: {'alpha': 10.0, 'copy_X': True, 'fit_intercept': True, 'max_iter': None, 'positive': False, 'random_state': None, 'solver': 'auto', 'tol': 0.0001}\n",
      "\n",
      "\n",
      "\n",
      "DecisionTreeRegressor:\n",
      "Best Mean Squared Error: 174184412560.63614\n",
      "Best Parameters: {'ccp_alpha': 0.0, 'criterion': 'squared_error', 'max_depth': 40, 'max_features': None, 'max_leaf_nodes': None, 'min_impurity_decrease': 0.0, 'min_samples_leaf': 8, 'min_samples_split': 20, 'min_weight_fraction_leaf': 0.0, 'monotonic_cst': None, 'random_state': None, 'splitter': 'best'}\n",
      "\n",
      "\n",
      "\n",
      "SVR:\n",
      "Best Mean Squared Error: 607463112386.5518\n",
      "Best Parameters: {'C': 10.0, 'cache_size': 200, 'coef0': 0.0, 'degree': 3, 'epsilon': 0.5, 'gamma': 'scale', 'kernel': 'linear', 'max_iter': -1, 'shrinking': True, 'tol': 0.001, 'verbose': False}\n",
      "\n",
      "\n",
      "\n",
      "KNeighborsRegressor:\n",
      "Best Mean Squared Error: 206906660943.85266\n",
      "Best Parameters: {'algorithm': 'auto', 'leaf_size': 30, 'metric': 'minkowski', 'metric_params': None, 'n_jobs': -1, 'n_neighbors': 10, 'p': 2, 'weights': 'distance'}\n",
      "\n",
      "\n"
     ]
    }
   ],
   "source": [
    "best_models = {}\n",
    "\n",
    "for model_name, params in param_grid.items():\n",
    "    print(f\"\\n{model_name}:\")\n",
    "    model = get_model(model_name)\n",
    "    grid_search = GridSearchCV(model, params, cv=5, scoring=\"neg_mean_squared_error\")\n",
    "    grid_search.fit(X_train, y_train)\n",
    "\n",
    "    best_model = grid_search.best_estimator_\n",
    "    best_params = best_model.get_params()\n",
    "\n",
    "    y_pred = best_model.predict(X_test)\n",
    "    mse = mean_squared_error(y_test, y_pred)\n",
    "    print(f'Best Mean Squared Error: {mse}')\n",
    "    print(f'Best Parameters: {best_params}\\n\\n')\n",
    "\n",
    "    best_models[model_name] = {\n",
    "        \"model\" : best_model,\n",
    "        \"params\" : best_params,\n",
    "        \"loss_value\" : mse\n",
    "    }"
   ]
  },
  {
   "cell_type": "code",
   "execution_count": 8,
   "id": "5240b0d0-632a-4fc3-9da7-b2e146df4fc0",
   "metadata": {},
   "outputs": [
    {
     "name": "stdout",
     "output_type": "stream",
     "text": [
      "LinearRegression - 0.5384613778573621\n",
      "Lasso - 0.5383733261905124\n",
      "Ridge - 0.5482858809017641\n",
      "DecisionTreeRegressor - 0.7050368882622111\n",
      "SVR - -0.028675340470460053\n",
      "KNeighborsRegressor - 0.6496251779703364\n"
     ]
    }
   ],
   "source": [
    "from sklearn.metrics import r2_score\n",
    "\n",
    "for best_model in best_models:\n",
    "    model = best_models[best_model][\"model\"]\n",
    "    pred = model.predict(X_test)\n",
    "    print(f\"{best_model} - {r2_score(y_test, pred)}\")"
   ]
  },
  {
   "cell_type": "code",
   "execution_count": 11,
   "id": "46e98ee0-0433-4fd8-88a3-2e90c0e93a1b",
   "metadata": {},
   "outputs": [],
   "source": [
    "import joblib\n",
    "\n",
    "for best_model in best_models:\n",
    "    model = best_models[best_model][\"model\"]\n",
    "    joblib.dump(model, f\"../joblib-files/models/{version}/{best_model}.pkl\")"
   ]
  }
 ],
 "metadata": {
  "kernelspec": {
   "display_name": "Python 3 (ipykernel)",
   "language": "python",
   "name": "python3"
  },
  "language_info": {
   "codemirror_mode": {
    "name": "ipython",
    "version": 3
   },
   "file_extension": ".py",
   "mimetype": "text/x-python",
   "name": "python",
   "nbconvert_exporter": "python",
   "pygments_lexer": "ipython3",
   "version": "3.11.6"
  }
 },
 "nbformat": 4,
 "nbformat_minor": 5
}
